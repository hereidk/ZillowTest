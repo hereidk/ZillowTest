{
 "metadata": {
  "name": "",
  "signature": "sha256:d3249056891db94b0c7d472e36f3164eb60be383d1662ff8025eb60063ce9282"
 },
 "nbformat": 3,
 "nbformat_minor": 0,
 "worksheets": [
  {
   "cells": [
    {
     "cell_type": "code",
     "collapsed": false,
     "input": [
      "'''\n",
      "Created on Jul 1, 2014\n",
      "\n",
      "@author: kahere\n",
      "'''\n",
      "\n",
      "\n",
      "import requests\n",
      "from bs4 import BeautifulSoup\n",
      "import numpy as np\n",
      "\n",
      "\n",
      "class ZipData():\n",
      "    '''\n",
      "    Get Zillow data at zip code level\n",
      "    '''\n",
      "\n",
      "\n",
      "    def __init__(self, zip):\n",
      "        '''\n",
      "        Point to demographics data in Zillow API, get data by zip code\n",
      "        '''\n",
      "        key = 'X1-ZWz1b5jgur5pu3_aypsc'\n",
      "        url = 'http://www.zillow.com/webservice/GetDemographics.htm?zws-id=%s&zip=%s' % (key, zip)\n",
      "        geturl = requests.get(url)\n",
      "        pageText = geturl.text\n",
      "        self.soup = BeautifulSoup(pageText,'xml')        \n",
      "        \n",
      "    def returnPrettify(self):\n",
      "        '''\n",
      "        Return XML as text to see structure\n",
      "        '''\n",
      "        self.soup.prettify()\n",
      "        return self.soup.prettify()\n",
      "\n",
      "    def returnState(self):\n",
      "        '''\n",
      "        Return the state of the given zip code\n",
      "        '''\n",
      "        return self.soup.state.contents[0]\n",
      "    \n",
      "    def returnHomeValues(self):\n",
      "        '''\n",
      "        Get home values at the zip code level, compile into list\n",
      "        '''\n",
      "        zhvi = np.int(self.soup.find(text='Zillow Home Value Index').next_element.find('value', type='USD').contents[0])\n",
      "        median_sfh = np.int(self.soup.find(text='Median Single Family Home Value').next_element.find('value', type='USD').contents[0])\n",
      "        median_condo = np.int(self.soup.find_all(text='Median Condo Value')[1].next_element.find('value', type='USD').contents[0])\n",
      "        median_2bd = np.int(self.soup.find(text='Median 2-Bedroom Home Value').next_element.find('value', type='USD').contents[0])\n",
      "        median_3bd = np.int(self.soup.find(text='Median 3-Bedroom Home Value').next_element.find('value', type='USD').contents[0])\n",
      "        median_4bd = np.int(self.soup.find(text='Median 4-Bedroom Home Value').next_element.find('value', type='USD').contents[0])\n",
      "        median_valuesqft = np.int(self.soup.find(text='Median Value Per Sq Ft').next_element.find('value', type='USD').contents[0])\n",
      "\n",
      "#         get_values = {'Zillow_Home_Value_Index':zhvi, 'Median_Single_Family':median_sfh, 'Median_Condo':median_condo, 'Median_2bd':median_2bd, 'Median_3bd':median_3bd, 'Median_4bd':median_4bd, 'Median_PerSqFt':median_valuesqft}\n",
      "        get_values = [zhvi, median_sfh, median_condo, median_2bd, median_3bd, median_4bd, median_valuesqft]\n",
      "        \n",
      "        return get_values\n",
      "\n",
      "\n",
      "\n",
      "\n",
      "# from IPython.parallel import ZipData\n",
      "import pandas\n",
      "import IPython.display as display\n",
      "\n",
      "if __name__ == '__main__':\n",
      "    # Get list of zip codes from csv file\n",
      "    zip_list = pandas.DataFrame().from_csv(r'C:\\Python code\\ZillowTest\\src\\root\\nested\\zip_code_database.csv')\n",
      "    \n",
      "    # Select state to test\n",
      "    zips = zip_list[zip_list.state=='FL'].index\n",
      "    zips = zips[:5]\n",
      "    print ('Zip codes: ', zips.values)\n",
      "    \n",
      "    home_values = pandas.DataFrame(index=zips,columns=['Zillow_Home_Value_Index','Median_Single_Family','Median_Condo','Median_2bd','Median_3bd','Median_4bd','Median_PerSqFt','State'])\n",
      "    for i in zips:\n",
      "        # Loop through zip code list, extracting home value data at each zip code\n",
      "        getzip = ZipData(i)\n",
      "        \n",
      "        try:\n",
      "            get_values = getzip.returnHomeValues()\n",
      "            home_values.ix[i,:-1] = get_values\n",
      "            home_values.ix[i,-1] = getzip.returnState()\n",
      "        except AttributeError:\n",
      "            print (i)\n",
      "            continue\n",
      "                \n",
      "    pandas.set_option('display.notebook_repr_html', True)"
     ],
     "language": "python",
     "metadata": {},
     "outputs": [
      {
       "output_type": "stream",
       "stream": "stdout",
       "text": [
        "Zip codes:  [32003 32008 32009 32011 32024]\n"
       ]
      }
     ],
     "prompt_number": 17
    },
    {
     "cell_type": "code",
     "collapsed": false,
     "input": [
      "s = '<a href=\"http://www.zillow.com\"><img src=\"http://www.zillow.com/widgets/GetVersionedResource.htm?path=/static/logos/Zillowlogo_200x50.gif\" width=\"200\" height=\"50\" alt=\"Zillow Real Estate Search\" /></a>'\n",
      "display.HTML(s)\n",
      "\n",
      "\n"
     ],
     "language": "python",
     "metadata": {},
     "outputs": [
      {
       "html": [
        "<a href=\"http://www.zillow.com\"><img src=\"http://www.zillow.com/widgets/GetVersionedResource.htm?path=/static/logos/Zillowlogo_200x50.gif\" width=\"200\" height=\"50\" alt=\"Zillow Real Estate Search\" /></a>"
       ],
       "metadata": {},
       "output_type": "pyout",
       "prompt_number": 22,
       "text": [
        "<IPython.core.display.HTML at 0x80c4320>"
       ]
      }
     ],
     "prompt_number": 22
    },
    {
     "cell_type": "code",
     "collapsed": false,
     "input": [
      "home_values\n"
     ],
     "language": "python",
     "metadata": {},
     "outputs": [
      {
       "html": [
        "<div style=\"max-height:1000px;max-width:1500px;overflow:auto;\">\n",
        "<table border=\"1\" class=\"dataframe\">\n",
        "  <thead>\n",
        "    <tr style=\"text-align: right;\">\n",
        "      <th></th>\n",
        "      <th>Zillow_Home_Value_Index</th>\n",
        "      <th>Median_Single_Family</th>\n",
        "      <th>Median_Condo</th>\n",
        "      <th>Median_2bd</th>\n",
        "      <th>Median_3bd</th>\n",
        "      <th>Median_4bd</th>\n",
        "      <th>Median_PerSqFt</th>\n",
        "      <th>State</th>\n",
        "    </tr>\n",
        "  </thead>\n",
        "  <tbody>\n",
        "    <tr>\n",
        "      <th>32003</th>\n",
        "      <td> 230300</td>\n",
        "      <td> 239600</td>\n",
        "      <td>  77300</td>\n",
        "      <td> 132000</td>\n",
        "      <td> 195200</td>\n",
        "      <td> 266600</td>\n",
        "      <td> 112</td>\n",
        "      <td> Florida</td>\n",
        "    </tr>\n",
        "    <tr>\n",
        "      <th>32008</th>\n",
        "      <td> 115800</td>\n",
        "      <td> 115800</td>\n",
        "      <td> 176100</td>\n",
        "      <td> 132000</td>\n",
        "      <td> 166500</td>\n",
        "      <td> 279500</td>\n",
        "      <td> 122</td>\n",
        "      <td> Florida</td>\n",
        "    </tr>\n",
        "    <tr>\n",
        "      <th>32009</th>\n",
        "      <td> 172700</td>\n",
        "      <td> 172700</td>\n",
        "      <td> 176100</td>\n",
        "      <td> 132000</td>\n",
        "      <td> 168700</td>\n",
        "      <td> 195100</td>\n",
        "      <td>  82</td>\n",
        "      <td> Florida</td>\n",
        "    </tr>\n",
        "    <tr>\n",
        "      <th>32011</th>\n",
        "      <td> 163400</td>\n",
        "      <td> 163400</td>\n",
        "      <td> 176100</td>\n",
        "      <td> 104700</td>\n",
        "      <td> 155700</td>\n",
        "      <td> 191300</td>\n",
        "      <td>  95</td>\n",
        "      <td> Florida</td>\n",
        "    </tr>\n",
        "    <tr>\n",
        "      <th>32024</th>\n",
        "      <td> 131000</td>\n",
        "      <td> 131000</td>\n",
        "      <td> 176100</td>\n",
        "      <td>  92000</td>\n",
        "      <td> 128600</td>\n",
        "      <td> 199900</td>\n",
        "      <td>  88</td>\n",
        "      <td> Florida</td>\n",
        "    </tr>\n",
        "  </tbody>\n",
        "</table>\n",
        "</div>"
       ],
       "metadata": {},
       "output_type": "pyout",
       "prompt_number": 18,
       "text": [
        "      Zillow_Home_Value_Index Median_Single_Family Median_Condo Median_2bd  \\\n",
        "32003                  230300               239600        77300     132000   \n",
        "32008                  115800               115800       176100     132000   \n",
        "32009                  172700               172700       176100     132000   \n",
        "32011                  163400               163400       176100     104700   \n",
        "32024                  131000               131000       176100      92000   \n",
        "\n",
        "      Median_3bd Median_4bd Median_PerSqFt    State  \n",
        "32003     195200     266600            112  Florida  \n",
        "32008     166500     279500            122  Florida  \n",
        "32009     168700     195100             82  Florida  \n",
        "32011     155700     191300             95  Florida  \n",
        "32024     128600     199900             88  Florida  "
       ]
      }
     ],
     "prompt_number": 18
    },
    {
     "cell_type": "code",
     "collapsed": false,
     "input": [
      "terms='<text>\u00a9 Zillow, Inc., 2006-2014. Use is subject to </text><a href=\"http://www.zillow.com/corp/Terms.htm\">Terms of Use</a><text><br></text><a href=\"http://www.zillow.com/zestimate/\">What&#39;s a Zestimate?</a>'\n",
      "# zestimate = '<a href=\"http://www.zillow.com/zestimate/\">What&#39;s a Zestimate?</a>'\n",
      "display.HTML(terms)\n"
     ],
     "language": "python",
     "metadata": {},
     "outputs": [
      {
       "html": [
        "<text>\u00a9 Zillow, Inc., 2006-2014. Use is subject to </text><a href=\"http://www.zillow.com/corp/Terms.htm\">Terms of Use</a><text><br></text><a href=\"http://www.zillow.com/zestimate/\">What&#39;s a Zestimate?</a>"
       ],
       "metadata": {},
       "output_type": "pyout",
       "prompt_number": 30,
       "text": [
        "<IPython.core.display.HTML at 0x590ac50>"
       ]
      }
     ],
     "prompt_number": 30
    },
    {
     "cell_type": "code",
     "collapsed": false,
     "input": [],
     "language": "python",
     "metadata": {},
     "outputs": []
    }
   ],
   "metadata": {}
  }
 ]
}